{
  "nbformat": 4,
  "nbformat_minor": 0,
  "metadata": {
    "colab": {
      "provenance": []
    },
    "kernelspec": {
      "name": "python3",
      "display_name": "Python 3"
    },
    "language_info": {
      "name": "python"
    }
  },
  "cells": [
    {
      "cell_type": "code",
      "source": [
        "# Input: nums = [100,4,200,1,3,2]\n",
        "# Output: 4\n",
        "# Explanation: The longest consecutive elements sequence is [1, 2, 3, 4]. Therefore its length is 4."
      ],
      "metadata": {
        "id": "JLzrpAj9ke5W"
      },
      "execution_count": 33,
      "outputs": []
    },
    {
      "cell_type": "code",
      "source": [
        "# l = [100,4,200,1,3,2]\n",
        "# l = [0,3,7,2,5,8,4,6,0,1]\n",
        "l = [9,1,4,7,3,-1,0,5,8,-1,6]"
      ],
      "metadata": {
        "id": "oc5JHcDJkfpL"
      },
      "execution_count": 59,
      "outputs": []
    },
    {
      "cell_type": "code",
      "source": [
        "class Solution:\n",
        "    def longestConsecutive(self, nums: List[int]) -> int:\n",
        "        mp=defaultdict(list)\n",
        "        bl=defaultdict(bool)\n",
        "        mx=0\n",
        "        for i in nums:\n",
        "            if bl[i]:\n",
        "                continue\n",
        "            bl[i]=True\n",
        "            l,r=i,i\n",
        "            if mp[i+1]:\n",
        "                r=mp[i+1][0]\n",
        "            if mp[i-1]:\n",
        "                l=mp[i-1][1]\n",
        "            mp[r]=[r,l]\n",
        "            mp[l]=[r,l]\n",
        "            mx=max(mx,r-l+1)\n",
        "        return mx"
      ],
      "metadata": {
        "id": "YeKH9uillXER"
      },
      "execution_count": null,
      "outputs": []
    }
  ]
}