{
  "nbformat": 4,
  "nbformat_minor": 0,
  "metadata": {
    "colab": {
      "provenance": []
    },
    "kernelspec": {
      "name": "python3",
      "display_name": "Python 3"
    },
    "language_info": {
      "name": "python"
    }
  },
  "cells": [
    {
      "cell_type": "code",
      "source": [
        "class Solution:\n",
        "    def maxSubArray(self, nums: List[int]) -> int:\n",
        "        n = len(nums)\n",
        "        maxsum = nums[0]  # Initialize maxsum with the first element\n",
        "\n",
        "        # Initialize sum to the first element (since it's the only subarray)\n",
        "        sum = nums[0]\n",
        "\n",
        "        for i in range(1, n):  # Start from the second element\n",
        "            # If adding the current element to the running sum makes it larger,\n",
        "            # update the running sum; otherwise, start a new subarray\n",
        "            sum = max(nums[i], sum + nums[i])\n",
        "\n",
        "            # Update maxsum if the current subarray sum is larger\n",
        "            maxsum = max(maxsum, sum)\n",
        "\n",
        "        return maxsum\n"
      ],
      "metadata": {
        "id": "SwwVdH0BI5LO"
      },
      "execution_count": null,
      "outputs": []
    }
  ]
}