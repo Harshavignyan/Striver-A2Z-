{
  "nbformat": 4,
  "nbformat_minor": 0,
  "metadata": {
    "colab": {
      "provenance": []
    },
    "kernelspec": {
      "name": "python3",
      "display_name": "Python 3"
    },
    "language_info": {
      "name": "python"
    }
  },
  "cells": [
    {
      "cell_type": "code",
      "source": [
        "# Input: prices = [7,1,5,3,6,4]\n",
        "# Output: 5\n",
        "# Explanation: Buy on day 2 (price = 1) and sell on day 5 (price = 6), profit = 6-1 = 5.\n",
        "# Note that buying on day 2 and selling on day 1 is not allowed because you must buy before you sell."
      ],
      "metadata": {
        "id": "HiqagZnhSHaq"
      },
      "execution_count": 1,
      "outputs": []
    },
    {
      "cell_type": "code",
      "source": [
        "# 1st thought:\n",
        "# take two pointers in order to check the left value (which is the buying rate) and the right value (which is the selling rate)\n",
        "# always maintain the condition for left to be small than right, if any time the combination of l,r is wrong then move to other values"
      ],
      "metadata": {
        "id": "ZzMXrzvOS5PX"
      },
      "execution_count": 2,
      "outputs": []
    },
    {
      "cell_type": "code",
      "source": [
        "l = [7,1,5,3,6,4]\n",
        "# l = [4,3,2,1]\n",
        "# l = [7,6,4,3,1]\n",
        "# l = [123456789, 987654321, 314159265, 271828182, 888888888,\n",
        "#     555555555, 777777777, 999999999, 1234567890, 9876543210,]"
      ],
      "metadata": {
        "id": "R4_Z34mzTTAl"
      },
      "execution_count": 22,
      "outputs": []
    },
    {
      "cell_type": "markdown",
      "source": [
        "# Method 1:\n",
        "\n",
        "### TC: O(N^2)"
      ],
      "metadata": {
        "id": "2YloaxxBWVkV"
      }
    },
    {
      "cell_type": "code",
      "source": [
        "# flag = 0\n",
        "# profit = 0\n",
        "\n",
        "# for i in range(len(l)):\n",
        "#   for j in range(i+1,len(l)):\n",
        "#     if l[i] > l[j]:\n",
        "#       continue\n",
        "#     else:\n",
        "#       flag = 1\n",
        "\n",
        "#       profit = max(profit, l[j] - l[i])\n",
        "\n",
        "# if flag == 0:\n",
        "#   print(\"No profit\")\n",
        "\n",
        "# else:\n",
        "#   print(profit)"
      ],
      "metadata": {
        "id": "t83zut8qTWGc"
      },
      "execution_count": 36,
      "outputs": []
    },
    {
      "cell_type": "markdown",
      "source": [
        "# Method 2:\n",
        "\n",
        "### TC: O(N)"
      ],
      "metadata": {
        "id": "1seKZ4gpWkh9"
      }
    },
    {
      "cell_type": "code",
      "source": [
        "# l = [4,1,5,2,7]\n",
        "# l = [2,4,1]\n",
        "l = [3,2,6,5,0,3]"
      ],
      "metadata": {
        "id": "2gMf5JSYacnA"
      },
      "execution_count": 44,
      "outputs": []
    },
    {
      "cell_type": "code",
      "source": [
        "cheap = l[0]\n",
        "pointer = 0\n",
        "\n",
        "profit = 0\n",
        "\n",
        "while(pointer < len(l)):\n",
        "  if l[pointer] < cheap:\n",
        "    cheap = l[pointer]\n",
        "  else:\n",
        "    profit = max(profit, l[pointer] - cheap)\n",
        "  pointer += 1\n",
        "\n",
        "print(profit)"
      ],
      "metadata": {
        "colab": {
          "base_uri": "https://localhost:8080/"
        },
        "id": "55ilLQaqXFje",
        "outputId": "a8bfd469-01ea-423e-b6a9-695d400d976e"
      },
      "execution_count": 45,
      "outputs": [
        {
          "output_type": "stream",
          "name": "stdout",
          "text": [
            "4\n"
          ]
        }
      ]
    },
    {
      "cell_type": "code",
      "source": [],
      "metadata": {
        "id": "P1NP3n-Mcmq8"
      },
      "execution_count": null,
      "outputs": []
    }
  ]
}