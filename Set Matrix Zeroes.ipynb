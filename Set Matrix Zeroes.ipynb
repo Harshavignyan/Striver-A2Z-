{
  "nbformat": 4,
  "nbformat_minor": 0,
  "metadata": {
    "colab": {
      "provenance": []
    },
    "kernelspec": {
      "name": "python3",
      "display_name": "Python 3"
    },
    "language_info": {
      "name": "python"
    }
  },
  "cells": [
    {
      "cell_type": "code",
      "source": [
        "# Input: matrix = [[1,1,1],[1,0,1],[1,1,1]]\n",
        "# Output: [[1,0,1],[0,0,0],[1,0,1]]"
      ],
      "metadata": {
        "id": "Jt0_gyBwq0gj"
      },
      "execution_count": 75,
      "outputs": []
    },
    {
      "cell_type": "code",
      "source": [
        "# l = [[1,1,1],[1,0,1],[1,1,1]]\n",
        "l = [[0,1,2,0],[3,4,5,2],[1,3,1,5]]"
      ],
      "metadata": {
        "id": "opJ_8b7eq1kw"
      },
      "execution_count": 173,
      "outputs": []
    },
    {
      "cell_type": "code",
      "source": [
        "class Solution:\n",
        "    def setZeroes(self, matrix: List[List[int]]) -> None:\n",
        "        \"\"\"\n",
        "        Do not return anything, modify matrix in-place instead.\n",
        "        \"\"\"\n",
        "        k = []\n",
        "        m = []\n",
        "\n",
        "        for i in range(len(matrix)):\n",
        "            for j in range(len(matrix[i])):\n",
        "                # print(l[i][j], end = \"\")\n",
        "                if matrix[i][j] == 0:\n",
        "                    k.append(i)\n",
        "                    m.append(j)\n",
        "\n",
        "        for i in range(len(matrix)):\n",
        "            for j in range(len(matrix[i])):\n",
        "                if i in k:\n",
        "                    matrix[i][j] = 0\n",
        "                if j in m:\n",
        "                    matrix[i][j] = 0\n",
        "\n",
        "        return matrix\n",
        ""
      ],
      "metadata": {
        "id": "RfDE5iW00uGY"
      },
      "execution_count": null,
      "outputs": []
    },
    {
      "cell_type": "markdown",
      "source": [
        "\n",
        "\n",
        "*   TC: O(mn)\n",
        "*   SC: O(m+n)\n",
        "\n"
      ],
      "metadata": {
        "id": "BZhbfFUy2H6w"
      }
    },
    {
      "cell_type": "code",
      "source": [
        "# Now try for a better solution where SC is O(1)"
      ],
      "metadata": {
        "id": "Ib-Zaf0z2NPX"
      },
      "execution_count": 177,
      "outputs": []
    },
    {
      "cell_type": "code",
      "source": [],
      "metadata": {
        "id": "fojnlmAT2zUD"
      },
      "execution_count": null,
      "outputs": []
    }
  ]
}