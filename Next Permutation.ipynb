{
  "nbformat": 4,
  "nbformat_minor": 0,
  "metadata": {
    "colab": {
      "provenance": []
    },
    "kernelspec": {
      "name": "python3",
      "display_name": "Python 3"
    },
    "language_info": {
      "name": "python"
    }
  },
  "cells": [
    {
      "cell_type": "code",
      "source": [
        "# A permutation of an array of integers is an arrangement of its members into a sequence or linear order.\n",
        "\n",
        "# For example, for arr = [1,2,3], the following are all the permutations of arr: [1,2,3], [1,3,2], [2, 1, 3], [2, 3, 1], [3,1,2], [3,2,1].\n",
        "# The next permutation of an array of integers is the next lexicographically greater permutation of its integer. More formally, if all the permutations of the array are sorted in one container according to their lexicographical order, then the next permutation of that array is the permutation that follows it in the sorted container. If such arrangement is not possible, the array must be rearranged as the lowest possible order (i.e., sorted in ascending order).\n",
        "\n",
        "# For example, the next permutation of arr = [1,2,3] is [1,3,2].\n",
        "# Similarly, the next permutation of arr = [2,3,1] is [3,1,2].\n",
        "# While the next permutation of arr = [3,2,1] is [1,2,3] because [3,2,1] does not have a lexicographical larger rearrangement.\n",
        "# Given an array of integers nums, find the next permutation of nums.\n",
        "\n",
        "# The replacement must be in place and use only constant extra memory."
      ],
      "metadata": {
        "id": "rimaqCNfqvVG"
      },
      "execution_count": 2,
      "outputs": []
    },
    {
      "cell_type": "code",
      "source": [
        "# the initial understanding of this problem is\n",
        "# [1,2,3] has permutaions => [1,2,3] and [1,3,2] in lexiographic order\n",
        "# so if given [1,2,3] => op is nextpermutation in lexiographic order [1,3,2]\n",
        "\n",
        "# this same logic is applied for all the inputs, if not found, return the sorted array"
      ],
      "metadata": {
        "id": "ax5pWE7Xq0na"
      },
      "execution_count": 3,
      "outputs": []
    },
    {
      "cell_type": "code",
      "source": [
        "l = [1,2,3]"
      ],
      "metadata": {
        "id": "MIzxf6OzsmuE"
      },
      "execution_count": 33,
      "outputs": []
    },
    {
      "cell_type": "code",
      "source": [
        "class Solution:\n",
        "    def nextPermutation(self, nums: List[int]) -> None:\n",
        "        \"\"\"\n",
        "        Do not return anything, modify nums in-place instead.\n",
        "        \"\"\"\n",
        "        left = 0\n",
        "        flag = 0\n",
        "        for right in range(len(nums) - 1, 0, -1):\n",
        "            if nums[right - 1] >= nums[right]:\n",
        "                continue\n",
        "            left = right - 1\n",
        "\n",
        "            while right + 1 < len(nums) and nums[right + 1] > nums[left]:\n",
        "                right += 1\n",
        "            nums[left], nums[right] = nums[right], nums[left]\n",
        "            flag = 1\n",
        "            break\n",
        "\n",
        "        if flag == 1:\n",
        "            left += 1\n",
        "        right = len(nums) - 1\n",
        "        while left < right:\n",
        "            nums[left], nums[right] = nums[right], nums[left]\n",
        "            left += 1\n",
        "            right -= 1\n",
        "        return nums"
      ],
      "metadata": {
        "id": "1dSFINN3cEzx"
      },
      "execution_count": null,
      "outputs": []
    }
  ]
}