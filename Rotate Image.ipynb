{
  "nbformat": 4,
  "nbformat_minor": 0,
  "metadata": {
    "colab": {
      "provenance": []
    },
    "kernelspec": {
      "name": "python3",
      "display_name": "Python 3"
    },
    "language_info": {
      "name": "python"
    }
  },
  "cells": [
    {
      "cell_type": "code",
      "source": [
        "# Example 1:\n",
        "# Input:\n",
        "#  [[1,2,3],[4,5,6],[7,8,9]]\n",
        "\n",
        "# Output\n",
        "# : [[7,4,1],[8,5,2],[9,6,3]]\n",
        "\n",
        "# Explanation:\n",
        "#  Rotate the matrix simply by 90 degree clockwise and return the matrix.\n"
      ],
      "metadata": {
        "id": "625ELMJ63UF7"
      },
      "execution_count": 178,
      "outputs": []
    },
    {
      "cell_type": "code",
      "source": [],
      "metadata": {
        "id": "U6kXX8wr4blh"
      },
      "execution_count": null,
      "outputs": []
    },
    {
      "cell_type": "code",
      "source": [
        "l = [[1,2,3],[4,5,6],[7,8,9]]"
      ],
      "metadata": {
        "id": "pB5ZmywM3kuI"
      },
      "execution_count": 191,
      "outputs": []
    },
    {
      "cell_type": "code",
      "source": [
        "class Solution:\n",
        "    def rotate(self, matrix: List[List[int]]) -> None:\n",
        "        \"\"\"\n",
        "        Do not return anything, modify matrix in-place instead.\n",
        "        \"\"\"\n",
        "        n = len(matrix)\n",
        "        # transposing the matrix\n",
        "        for i in range(n):\n",
        "            for j in range(i):\n",
        "                matrix[i][j], matrix[j][i] = matrix[j][i], matrix[i][j]\n",
        "        # reversing each row of the matrix\n",
        "        for i in range(n):\n",
        "            matrix[i].reverse()"
      ],
      "metadata": {
        "id": "F7GLy0EA7S9I"
      },
      "execution_count": null,
      "outputs": []
    }
  ]
}