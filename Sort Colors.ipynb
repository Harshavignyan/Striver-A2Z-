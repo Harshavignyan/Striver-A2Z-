{
  "nbformat": 4,
  "nbformat_minor": 0,
  "metadata": {
    "colab": {
      "provenance": []
    },
    "kernelspec": {
      "name": "python3",
      "display_name": "Python 3"
    },
    "language_info": {
      "name": "python"
    }
  },
  "cells": [
    {
      "cell_type": "markdown",
      "source": [
        "# 75. Sort Colors"
      ],
      "metadata": {
        "id": "xhXwZy-Qw3zM"
      }
    },
    {
      "cell_type": "markdown",
      "source": [
        "Given an array nums with n objects colored red, white, or blue, sort them in-place so that objects of the same color are adjacent, with the colors in the order red, white, and blue.\n",
        "\n",
        "We will use the integers 0, 1, and 2 to represent the color red, white, and blue, respectively.\n",
        "\n",
        "You must solve this problem without using the library's sort function.\n",
        "\n",
        "\n",
        "\n",
        "Example 1:\n",
        "\n",
        "Input: nums = [2,0,2,1,1,0]\n",
        "Output: [0,0,1,1,2,2]\n",
        "Example 2:\n",
        "\n",
        "Input: nums = [2,0,1]\n",
        "Output: [0,1,2]\n",
        "\n",
        "\n",
        "Constraints:\n",
        "\n",
        "n == nums.length\n",
        "1 <= n <= 300\n",
        "nums[i] is either 0, 1, or 2."
      ],
      "metadata": {
        "id": "z0n5FwAvw8-I"
      }
    },
    {
      "cell_type": "markdown",
      "source": [
        "## Naive"
      ],
      "metadata": {
        "id": "MxSTr5gK458k"
      }
    },
    {
      "cell_type": "code",
      "source": [
        "def sortColors(nums):\n",
        "  n = len(nums)\n",
        "\n",
        "  for i in range(n):\n",
        "    for j in range(n):\n",
        "      if nums[j] > nums[i]:\n",
        "        nums[j], nums[i] = nums[i], nums[j]\n",
        "  return nums"
      ],
      "metadata": {
        "id": "cEz6qiLFw2Fx"
      },
      "execution_count": 16,
      "outputs": []
    },
    {
      "cell_type": "code",
      "source": [
        "sortColors([2,0,2,1,1,0])"
      ],
      "metadata": {
        "colab": {
          "base_uri": "https://localhost:8080/"
        },
        "id": "F5ndr9dExLkl",
        "outputId": "47cd8c74-ed59-43b8-d696-e15029df1d9e"
      },
      "execution_count": 17,
      "outputs": [
        {
          "output_type": "execute_result",
          "data": {
            "text/plain": [
              "[0, 0, 1, 1, 2, 2]"
            ]
          },
          "metadata": {},
          "execution_count": 17
        }
      ]
    },
    {
      "cell_type": "markdown",
      "source": [
        "## Better"
      ],
      "metadata": {
        "id": "wO7yAhOA47-b"
      }
    },
    {
      "cell_type": "code",
      "source": [
        "class Solution:\n",
        "    def sortColors(self, nums: List[int]) -> None:\n",
        "        \"\"\"\n",
        "        Do not return anything, modify nums in-place instead.\n",
        "        \"\"\"\n",
        "\n",
        "        low = 0\n",
        "        mid = 0\n",
        "        high = len(nums) - 1\n",
        "\n",
        "        while mid <= high:\n",
        "            if nums[mid] == 0:\n",
        "                nums[low], nums[mid] = nums[mid], nums[low]\n",
        "                low += 1\n",
        "                mid += 1\n",
        "            elif nums[mid] == 1:\n",
        "                mid += 1\n",
        "            else:\n",
        "                nums[mid], nums[high] = nums[high], nums[mid]\n",
        "                high -= 1"
      ],
      "metadata": {
        "id": "ivt_z54VxPZA"
      },
      "execution_count": null,
      "outputs": []
    }
  ]
}