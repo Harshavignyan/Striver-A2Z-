{
  "nbformat": 4,
  "nbformat_minor": 0,
  "metadata": {
    "colab": {
      "provenance": []
    },
    "kernelspec": {
      "name": "python3",
      "display_name": "Python 3"
    },
    "language_info": {
      "name": "python"
    }
  },
  "cells": [
    {
      "cell_type": "code",
      "source": [
        "# n = 6\n",
        "# A[] = {16,17,4,3,5,2}\n",
        "# Output: 17 5 2\n",
        "# Explanation: The first leader is 17\n",
        "# as it is greater than all the elements\n",
        "# to its right.  Similarly, the next\n",
        "# leader is 5. The right most element\n",
        "# is always a leader so it is also\n",
        "# included."
      ],
      "metadata": {
        "id": "5gliwRtDfsBi"
      },
      "execution_count": 1,
      "outputs": []
    },
    {
      "cell_type": "code",
      "source": [
        "l = leaders([16,17,4,3,5,2], 6)"
      ],
      "metadata": {
        "id": "AZNuZ6_hftPZ"
      },
      "execution_count": 32,
      "outputs": []
    },
    {
      "cell_type": "code",
      "source": [
        "# if we take a loop where we begin from the end, then there is a chance we will get to know\n",
        "# wt are the values we are passing through, if the passed values are less than the present value\n",
        "# it means it is a leader till that index\n",
        "# now, whenever we find such a number, we just keep printing them till we reach index 0"
      ],
      "metadata": {
        "id": "tKr8CxvofxkI"
      },
      "execution_count": 17,
      "outputs": []
    },
    {
      "cell_type": "code",
      "source": [
        "def leaders(A, N):\n",
        "        #Code here\n",
        "\n",
        "\n",
        "        sol = 0\n",
        "        b = []\n",
        "\n",
        "        for i in range(N-1, -1, -1):\n",
        "          if A[i] >= sol:\n",
        "            sol = A[i]\n",
        "            b.append(sol)\n",
        "\n",
        "        return b[::-1]"
      ],
      "metadata": {
        "id": "hyIhRfGvgKWw"
      },
      "execution_count": 31,
      "outputs": []
    }
  ]
}