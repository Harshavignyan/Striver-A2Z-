{
  "nbformat": 4,
  "nbformat_minor": 0,
  "metadata": {
    "colab": {
      "provenance": []
    },
    "kernelspec": {
      "name": "python3",
      "display_name": "Python 3"
    },
    "language_info": {
      "name": "python"
    }
  },
  "cells": [
    {
      "cell_type": "code",
      "source": [
        "import math"
      ],
      "metadata": {
        "id": "1sD3pzdm9niT"
      },
      "execution_count": 24,
      "outputs": []
    },
    {
      "cell_type": "code",
      "source": [
        "n = 5.5"
      ],
      "metadata": {
        "id": "YftlueUGjcch"
      },
      "execution_count": 25,
      "outputs": []
    },
    {
      "cell_type": "code",
      "source": [
        "n // 3"
      ],
      "metadata": {
        "colab": {
          "base_uri": "https://localhost:8080/"
        },
        "id": "3qcgJmYWjdY5",
        "outputId": "d0636ae3-2fc0-4dac-a6cd-067afe83c470"
      },
      "execution_count": 21,
      "outputs": [
        {
          "output_type": "execute_result",
          "data": {
            "text/plain": [
              "1.0"
            ]
          },
          "metadata": {},
          "execution_count": 21
        }
      ]
    },
    {
      "cell_type": "code",
      "source": [
        "math.floor(n/3)"
      ],
      "metadata": {
        "colab": {
          "base_uri": "https://localhost:8080/"
        },
        "id": "orHvwN9Yjj5S",
        "outputId": "7a2f7358-8538-4d54-a4da-1faeac203b94"
      },
      "execution_count": 27,
      "outputs": [
        {
          "output_type": "execute_result",
          "data": {
            "text/plain": [
              "1"
            ]
          },
          "metadata": {},
          "execution_count": 27
        }
      ]
    },
    {
      "cell_type": "code",
      "source": [
        "# Example 1:\n",
        "\n",
        "# Input: nums = [3,2,3]\n",
        "# Output: [3]"
      ],
      "metadata": {
        "id": "ey73y0YCjp-j"
      },
      "execution_count": 28,
      "outputs": []
    },
    {
      "cell_type": "code",
      "source": [
        "nums = [3,2,3]\n",
        "math.floor(len(nums)/3)"
      ],
      "metadata": {
        "colab": {
          "base_uri": "https://localhost:8080/"
        },
        "id": "wflOi_S9j72p",
        "outputId": "32927d20-1cd2-42bc-a869-5921715186fe"
      },
      "execution_count": 30,
      "outputs": [
        {
          "output_type": "execute_result",
          "data": {
            "text/plain": [
              "1"
            ]
          },
          "metadata": {},
          "execution_count": 30
        }
      ]
    },
    {
      "cell_type": "code",
      "source": [
        "# Example 2:\n",
        "\n",
        "# Input: nums = [1]\n",
        "# Output: [1]"
      ],
      "metadata": {
        "id": "acCdOYhtkCbo"
      },
      "execution_count": 31,
      "outputs": []
    },
    {
      "cell_type": "code",
      "source": [
        "nums2 = [1]\n",
        "\n",
        "math.floor(len(nums2)/3)"
      ],
      "metadata": {
        "colab": {
          "base_uri": "https://localhost:8080/"
        },
        "id": "g-Dc-ly_kIfn",
        "outputId": "cb45741a-4008-4703-e307-ccb63ff2a67e"
      },
      "execution_count": 33,
      "outputs": [
        {
          "output_type": "execute_result",
          "data": {
            "text/plain": [
              "0"
            ]
          },
          "metadata": {},
          "execution_count": 33
        }
      ]
    },
    {
      "cell_type": "code",
      "source": [
        "# Example 3:\n",
        "\n",
        "# Input: nums = [1,2]\n",
        "# Output: [1,2]"
      ],
      "metadata": {
        "id": "lsQPnPLtkNm-"
      },
      "execution_count": 34,
      "outputs": []
    },
    {
      "cell_type": "code",
      "source": [
        "nums3 = [1,2]\n",
        "\n",
        "math.floor(len(nums3)/3)"
      ],
      "metadata": {
        "colab": {
          "base_uri": "https://localhost:8080/"
        },
        "id": "OskWTfjvkTE6",
        "outputId": "ed1bdfc4-19f6-4fbb-ed79-6bc5d0a39bee"
      },
      "execution_count": 35,
      "outputs": [
        {
          "output_type": "execute_result",
          "data": {
            "text/plain": [
              "0"
            ]
          },
          "metadata": {},
          "execution_count": 35
        }
      ]
    },
    {
      "cell_type": "code",
      "source": [
        "map = {}\n",
        "res = []\n",
        "\n",
        "for i in range(len(nums)):\n",
        "  if nums[i] in map:\n",
        "    map[nums[i]] += 1\n",
        "\n",
        "  else:\n",
        "    map[nums[i]] = 1\n",
        "\n",
        "  if map[nums[i]] > math.floor(len(nums)/3):\n",
        "    if nums[i] not in res:\n",
        "      res.append(nums[i])\n",
        "\n",
        "print(res)"
      ],
      "metadata": {
        "colab": {
          "base_uri": "https://localhost:8080/"
        },
        "id": "38B9n9JYkVeK",
        "outputId": "fa34adc8-16e7-4c69-d593-1f8cd2099e1b"
      },
      "execution_count": 40,
      "outputs": [
        {
          "output_type": "stream",
          "name": "stdout",
          "text": [
            "[2]\n"
          ]
        }
      ]
    },
    {
      "cell_type": "code",
      "source": [
        "nums = [2,2]"
      ],
      "metadata": {
        "id": "YUuJo8gjkiXp"
      },
      "execution_count": 38,
      "outputs": []
    },
    {
      "cell_type": "code",
      "source": [],
      "metadata": {
        "id": "eQ1HinUblhIV"
      },
      "execution_count": null,
      "outputs": []
    }
  ]
}