{
  "nbformat": 4,
  "nbformat_minor": 0,
  "metadata": {
    "colab": {
      "provenance": []
    },
    "kernelspec": {
      "name": "python3",
      "display_name": "Python 3"
    },
    "language_info": {
      "name": "python"
    }
  },
  "cells": [
    {
      "cell_type": "code",
      "source": [
        "class Solution:\n",
        "    def pairWithMaxSum(self, arr, N):\n",
        "        # Your code goes here\n",
        "\n",
        "       ans = arr[0]+arr[1]\n",
        "       summ = ans\n",
        "       for i in range(2,N):\n",
        "           summ += arr[i]-arr[i-2]\n",
        "           ans = max(ans,summ)\n",
        "       return ans\n",
        "\n",
        "\n"
      ],
      "metadata": {
        "id": "HiqagZnhSHaq"
      },
      "execution_count": null,
      "outputs": []
    }
  ]
}