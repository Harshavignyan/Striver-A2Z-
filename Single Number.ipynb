{
  "nbformat": 4,
  "nbformat_minor": 0,
  "metadata": {
    "colab": {
      "provenance": []
    },
    "kernelspec": {
      "name": "python3",
      "display_name": "Python 3"
    },
    "language_info": {
      "name": "python"
    }
  },
  "cells": [
    {
      "cell_type": "code",
      "source": [
        "# Example 1:\n",
        "\n",
        "# Input: nums = [2,2,1]\n",
        "# Output: 1\n",
        "# Example 2:\n",
        "\n",
        "# Input: nums = [4,1,2,1,2]\n",
        "# Output: 4\n",
        "# Example 3:\n",
        "\n",
        "# Input: nums = [1]\n",
        "# Output: 1"
      ],
      "metadata": {
        "id": "YCLMt0S8SryC"
      },
      "execution_count": null,
      "outputs": []
    },
    {
      "cell_type": "code",
      "source": [
        "class Solution:\n",
        "    def singleNumber(self, nums: List[int]) -> int:\n",
        "\n",
        "        xorr = 0\n",
        "        for num in nums:\n",
        "            xorr ^= num\n",
        "        return xorr"
      ],
      "metadata": {
        "id": "CzWqAhSWSpyz"
      },
      "execution_count": null,
      "outputs": []
    }
  ]
}