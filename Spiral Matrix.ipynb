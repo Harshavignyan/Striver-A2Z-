{
  "nbformat": 4,
  "nbformat_minor": 0,
  "metadata": {
    "colab": {
      "provenance": []
    },
    "kernelspec": {
      "name": "python3",
      "display_name": "Python 3"
    },
    "language_info": {
      "name": "python"
    }
  },
  "cells": [
    {
      "cell_type": "code",
      "source": [
        "# Input: matrix = [[1,2,3],[4,5,6],[7,8,9]]\n",
        "# Output: [1,2,3,6,9,8,7,4,5]\n"
      ],
      "metadata": {
        "id": "625ELMJ63UF7"
      },
      "execution_count": 1,
      "outputs": []
    },
    {
      "cell_type": "code",
      "source": [
        "l = [[1,2,3,4],[5,6,7,8],[9,10,11,12]]"
      ],
      "metadata": {
        "id": "pB5ZmywM3kuI"
      },
      "execution_count": 85,
      "outputs": []
    },
    {
      "cell_type": "code",
      "source": [
        "class Solution:\n",
        "    def spiralOrder(self, matrix: List[List[int]]) -> List[int]:\n",
        "        # Define ans array to store the result.\n",
        "        ans = []\n",
        "\n",
        "        n = len(matrix) # no. of rows\n",
        "        m = len(matrix[0]) # no. of columns\n",
        "\n",
        "        # Initialize the pointers reqd for traversal.\n",
        "        top = 0\n",
        "        left = 0\n",
        "        bottom = n - 1\n",
        "        right = m - 1\n",
        "\n",
        "        # Loop until all elements are not traversed.\n",
        "        while (top <= bottom and left <= right):\n",
        "            # For moving left to right\n",
        "            for i in range(left, right + 1):\n",
        "                ans.append(matrix[top][i])\n",
        "\n",
        "            top += 1\n",
        "\n",
        "            # For moving top to bottom.\n",
        "            for i in range(top, bottom + 1):\n",
        "                ans.append(matrix[i][right])\n",
        "\n",
        "            right -= 1\n",
        "\n",
        "            # For moving right to left.\n",
        "            if (top <= bottom):\n",
        "                for i in range(right, left - 1, -1):\n",
        "                    ans.append(matrix[bottom][i])\n",
        "\n",
        "                bottom -= 1\n",
        "\n",
        "            # For moving bottom to top.\n",
        "            if (left <= right):\n",
        "                for i in range(bottom, top - 1, -1):\n",
        "                    ans.append(matrix[i][left])\n",
        "\n",
        "                left += 1\n",
        "\n",
        "        return ans"
      ],
      "metadata": {
        "id": "TnUCGangqh4_"
      },
      "execution_count": null,
      "outputs": []
    }
  ]
}