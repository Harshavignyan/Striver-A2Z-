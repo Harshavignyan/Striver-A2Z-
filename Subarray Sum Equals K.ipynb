{
  "nbformat": 4,
  "nbformat_minor": 0,
  "metadata": {
    "colab": {
      "provenance": []
    },
    "kernelspec": {
      "name": "python3",
      "display_name": "Python 3"
    },
    "language_info": {
      "name": "python"
    }
  },
  "cells": [
    {
      "cell_type": "code",
      "source": [
        "# Given an array of integers nums and an integer k, return the total number of subarrays whose sum equals to k.\n",
        "\n",
        "# A subarray is a contiguous non-empty sequence of elements within an array.\n",
        "\n",
        "\n",
        "\n",
        "# Example 1:\n",
        "\n",
        "# Input: nums = [1,1,1], k = 2\n",
        "# Output: 2\n",
        "\n",
        "# Example 2:\n",
        "\n",
        "# Input: nums = [1,2,3], k = 3\n",
        "# Output: 2"
      ],
      "metadata": {
        "id": "83L9qfjYt_Yr"
      },
      "execution_count": null,
      "outputs": []
    },
    {
      "cell_type": "code",
      "source": [
        "l = [1,2,3]\n",
        "k = 3"
      ],
      "metadata": {
        "id": "Ftp70GDZuzFn"
      },
      "execution_count": 126,
      "outputs": []
    },
    {
      "cell_type": "code",
      "source": [
        "class Solution:\n",
        "    def subarraySum(self, nums: List[int], k: int) -> int:\n",
        "        n = len(nums) # size of the given array.\n",
        "        mpp = defaultdict(int)\n",
        "        preSum = 0\n",
        "        cnt = 0\n",
        "\n",
        "        mpp[0] = 1 # Setting 0 in the map.\n",
        "        for i in range(n):\n",
        "            # add current element to prefix Sum:\n",
        "            preSum += nums[i]\n",
        "\n",
        "            # Calculate x-k:\n",
        "            remove = preSum - k\n",
        "\n",
        "            # Add the number of subarrays to be removed:\n",
        "            cnt += mpp[remove]\n",
        "\n",
        "            # Update the count of prefix sum\n",
        "            # in the map.\n",
        "            mpp[preSum] += 1\n",
        "\n",
        "        return cnt"
      ],
      "metadata": {
        "id": "nqquyIsRyyku"
      },
      "execution_count": null,
      "outputs": []
    }
  ]
}