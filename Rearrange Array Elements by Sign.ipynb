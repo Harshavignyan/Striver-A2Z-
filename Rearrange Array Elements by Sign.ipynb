{
  "nbformat": 4,
  "nbformat_minor": 0,
  "metadata": {
    "colab": {
      "provenance": []
    },
    "kernelspec": {
      "name": "python3",
      "display_name": "Python 3"
    },
    "language_info": {
      "name": "python"
    }
  },
  "cells": [
    {
      "cell_type": "code",
      "source": [
        "# Input: nums = [3,1,-2,-5,2,-4]\n",
        "# Output: [3,-2,1,-5,2,-4]\n",
        "# Explanation:\n",
        "# The positive integers in nums are [3,1,2]. The negative integers are [-2,-5,-4].\n",
        "# The only possible way to rearrange them such that they satisfy all conditions is [3,-2,1,-5,2,-4].\n",
        "# Other ways such as [1,-2,2,-5,3,-4], [3,1,2,-2,-5,-4], [-2,3,-5,1,-4,2] are incorrect because they do not satisfy one or more conditions."
      ],
      "metadata": {
        "id": "A3NYljYoi3qv"
      },
      "execution_count": 46,
      "outputs": []
    },
    {
      "cell_type": "code",
      "source": [
        "# brute force approach would be to take two pointers, one on left and the other going ahead\n",
        "# if u find a negative num bring it to the next place of the first pointer\n",
        "# consider this as shifting, if not exactly, but it feels like that"
      ],
      "metadata": {
        "id": "RJsUe7_oi6zq"
      },
      "execution_count": 47,
      "outputs": []
    },
    {
      "cell_type": "code",
      "source": [
        "l = [3,1,-2,-5,2,-4]"
      ],
      "metadata": {
        "id": "Bn4pKfyojMFq"
      },
      "execution_count": 48,
      "outputs": []
    },
    {
      "cell_type": "code",
      "source": [
        "def rearrangeArray(self, nums: List[int]) -> List[int]:\n",
        "        n = len(nums)\n",
        "\n",
        "        b = []\n",
        "        c = []\n",
        "        sol = []\n",
        "\n",
        "        for i in range(n):\n",
        "            if nums[i] > 0:\n",
        "                b.append(nums[i])\n",
        "            else:\n",
        "                c.append(nums[i])\n",
        "\n",
        "        for i in range(n):\n",
        "            if i % 2 == 0:\n",
        "                sol.append(b[i//2])\n",
        "            else:\n",
        "                sol.append(c[i//2])\n",
        "\n",
        "        return sol"
      ],
      "metadata": {
        "id": "QKrvglrvkwP8"
      },
      "execution_count": null,
      "outputs": []
    }
  ]
}