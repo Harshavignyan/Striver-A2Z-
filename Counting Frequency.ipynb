{
 "cells": [
  {
   "cell_type": "code",
   "execution_count": null,
   "metadata": {},
   "outputs": [],
   "source": [
    "class Solution:\n",
    "    #Function to count the frequency of all elements from 1 to N in the array.\n",
    "    def frequencyCount(self, arr, N, P):\n",
    "        # code here\n",
    "        \n",
    "        map = {}\n",
    "        \n",
    "        for i in range(N):\n",
    "            \n",
    "            if arr[i] in map:\n",
    "                map[arr[i]] += 1\n",
    "            else:\n",
    "                map[arr[i]] = 1\n",
    "        \n",
    "        for i in range(N):\n",
    "            if i+1 in map:\n",
    "                arr[i] = map[i+1]\n",
    "            else:\n",
    "                arr[i] = 0\n",
    "        \n",
    "        return arr"
   ]
  },
  {
   "cell_type": "code",
   "execution_count": null,
   "metadata": {},
   "outputs": [],
   "source": []
  }
 ],
 "metadata": {
  "language_info": {
   "name": "python"
  }
 },
 "nbformat": 4,
 "nbformat_minor": 2
}
