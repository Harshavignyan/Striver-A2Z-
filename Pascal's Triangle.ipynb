{
  "nbformat": 4,
  "nbformat_minor": 0,
  "metadata": {
    "colab": {
      "provenance": []
    },
    "kernelspec": {
      "name": "python3",
      "display_name": "Python 3"
    },
    "language_info": {
      "name": "python"
    }
  },
  "cells": [
    {
      "cell_type": "code",
      "source": [
        "# pascal triangle"
      ],
      "metadata": {
        "id": "1sD3pzdm9niT"
      },
      "execution_count": 1,
      "outputs": []
    },
    {
      "cell_type": "code",
      "source": [
        "n = 5"
      ],
      "metadata": {
        "id": "jzC3Bh2tdm8W"
      },
      "execution_count": 2,
      "outputs": []
    },
    {
      "cell_type": "code",
      "source": [
        "class Solution:\n",
        "    def generate(self, numRows: int) -> List[List[int]]:\n",
        "        result = []\n",
        "        if numRows == 0:\n",
        "            return result\n",
        "\n",
        "        first_row = [1]\n",
        "        result.append(first_row)\n",
        "\n",
        "        for i in range(1, numRows):\n",
        "            prev_row = result[i - 1]\n",
        "            current_row = [1]\n",
        "\n",
        "            for j in range(1, i):\n",
        "                current_row.append(prev_row[j - 1] + prev_row[j])\n",
        "\n",
        "            current_row.append(1)\n",
        "            result.append(current_row)\n",
        "\n",
        "        return result"
      ],
      "metadata": {
        "id": "vwPWdpVdiaoU"
      },
      "execution_count": null,
      "outputs": []
    }
  ]
}