{
  "nbformat": 4,
  "nbformat_minor": 0,
  "metadata": {
    "colab": {
      "provenance": []
    },
    "kernelspec": {
      "name": "python3",
      "display_name": "Python 3"
    },
    "language_info": {
      "name": "python"
    }
  },
  "cells": [
    {
      "cell_type": "code",
      "source": [
        "from collections import defaultdict\n",
        "\n",
        "class Solution:\n",
        "\n",
        "    # Function to find the length of the longest subarray with sum 'k'\n",
        "    def lenOfLongSubarr (self, arr, n, k) :\n",
        "\n",
        "        # Creating a default dictionary\n",
        "        # Default value for non-existent keys will be 0\n",
        "        um = defaultdict(lambda:0)\n",
        "\n",
        "        # Initializing variables\n",
        "        sum = 0\n",
        "        maxLen = 0\n",
        "\n",
        "        # Iterating through the array\n",
        "        for i in range(n):\n",
        "\n",
        "            # Calculating the current sum\n",
        "            sum += arr[i]\n",
        "\n",
        "            # Checking if the current sum is equal to 'k'\n",
        "            if (sum == k) :\n",
        "                maxLen = i + 1\n",
        "\n",
        "            # Adding the current sum to the dictionary if it doesn't exist\n",
        "            if (sum not in um) :\n",
        "                um[sum] = i\n",
        "\n",
        "            # Checking if the difference between the current sum and 'k' exists in the dictionary\n",
        "            if sum - k in um:\n",
        "\n",
        "                # Checking if the current subarray length is longer than the maximum length found so far\n",
        "                if (maxLen < (i - um[sum - k])) :\n",
        "                    maxLen = i - um[sum - k]\n",
        "\n",
        "        # Returning the maximum subarray length\n",
        "        return maxLen"
      ],
      "metadata": {
        "id": "p2BK3Mxj4fCl"
      },
      "execution_count": null,
      "outputs": []
    }
  ]
}